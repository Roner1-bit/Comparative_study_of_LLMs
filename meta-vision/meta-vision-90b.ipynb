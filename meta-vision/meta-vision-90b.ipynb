{
 "cells": [
  {
   "cell_type": "code",
   "execution_count": 1,
   "metadata": {},
   "outputs": [
    {
     "name": "stderr",
     "output_type": "stream",
     "text": [
      "/home/elboardy/.local/lib/python3.9/site-packages/torchvision/io/image.py:13: UserWarning: Failed to load image Python extension: '/home/elboardy/.local/lib/python3.9/site-packages/torchvision/image.so: undefined symbol: _ZN3c1017RegisterOperatorsD1Ev'If you don't plan on using image functionality from `torchvision.io`, you can ignore this warning. Otherwise, there might be something wrong with your environment. Did you have `libjpeg` or `libpng` installed before building `torchvision` from source?\n",
      "  warn(\n",
      "/home/elboardy/.local/lib/python3.9/site-packages/torchvision/datapoints/__init__.py:12: UserWarning: The torchvision.datapoints and torchvision.transforms.v2 namespaces are still Beta. While we do not expect major breaking changes, some APIs may still change according to user feedback. Please submit any feedback you may have in this issue: https://github.com/pytorch/vision/issues/6753, and you can also check out https://github.com/pytorch/vision/issues/7319 to learn more about the APIs that we suspect might involve future changes. You can silence this warning by calling torchvision.disable_beta_transforms_warning().\n",
      "  warnings.warn(_BETA_TRANSFORMS_WARNING)\n",
      "/home/elboardy/.local/lib/python3.9/site-packages/torchvision/transforms/v2/__init__.py:54: UserWarning: The torchvision.datapoints and torchvision.transforms.v2 namespaces are still Beta. While we do not expect major breaking changes, some APIs may still change according to user feedback. Please submit any feedback you may have in this issue: https://github.com/pytorch/vision/issues/6753, and you can also check out https://github.com/pytorch/vision/issues/7319 to learn more about the APIs that we suspect might involve future changes. You can silence this warning by calling torchvision.disable_beta_transforms_warning().\n",
      "  warnings.warn(_BETA_TRANSFORMS_WARNING)\n"
     ]
    }
   ],
   "source": [
    "import os\n",
    "from PIL import Image\n",
    "from transformers import MllamaForConditionalGeneration, AutoProcessor\n",
    "import torch\n",
    "import gc"
   ]
  },
  {
   "cell_type": "code",
   "execution_count": 2,
   "metadata": {},
   "outputs": [],
   "source": [
    "model_id = \"meta-llama/Llama-3.2-90B-Vision-Instruct\"\n",
    "cases_dir = '/media/RLAB-Disk01/(final)merged_images_with_labels_order_and_folders_mask_normalized/'\n",
    "cache_dir = '/media/RLAB-Disk01/Large-Language-Models-Weights'\n",
    "offload_folder = '/media/RLAB-Disk01/Large-Language-Models-Weights'"
   ]
  },
  {
   "cell_type": "code",
   "execution_count": 3,
   "metadata": {},
   "outputs": [],
   "source": [
    "os.environ['PYTORCH_CUDA_ALLOC_CONF'] = 'max_split_size_mb:512'\n",
    "#torch.cuda.set_per_process_memory_fraction(0.8)"
   ]
  },
  {
   "cell_type": "code",
   "execution_count": 4,
   "metadata": {},
   "outputs": [
    {
     "name": "stdout",
     "output_type": "stream",
     "text": [
      "Found 40 cases to process.\n"
     ]
    }
   ],
   "source": [
    "cases_to_process = []\n",
    "for case in os.listdir(cases_dir):\n",
    "    case_dir = os.path.join(cases_dir, case)\n",
    "    if os.path.isdir(case_dir):\n",
    "        response_path = os.path.join(case_dir, 'llama-90B.txt')\n",
    "        if not os.path.exists(response_path):\n",
    "            cases_to_process.append(case)\n",
    "print(f\"Found {len(cases_to_process)} cases to process.\")"
   ]
  },
  {
   "cell_type": "code",
   "execution_count": null,
   "metadata": {},
   "outputs": [
    {
     "name": "stderr",
     "output_type": "stream",
     "text": [
      "The model weights are not tied. Please use the `tie_weights` method before using the `infer_auto_device` function.\n"
     ]
    },
    {
     "data": {
      "application/vnd.jupyter.widget-view+json": {
       "model_id": "30237fe0651a4901a0a97f8cc6b2835a",
       "version_major": 2,
       "version_minor": 0
      },
      "text/plain": [
       "Loading checkpoint shards:   0%|          | 0/37 [00:00<?, ?it/s]"
      ]
     },
     "metadata": {},
     "output_type": "display_data"
    }
   ],
   "source": [
    "\n",
    "model_id = model_id\n",
    "model = MllamaForConditionalGeneration.from_pretrained(\n",
    "    model_id,\n",
    "    torch_dtype=torch.bfloat16,\n",
    "    device_map=\"auto\",\n",
    "    cache_dir=cache_dir,\n",
    "    offload_folder=offload_folder,\n",
    "    attn_implementation=\"eager\",\n",
    "    use_safetensors=True,\n",
    "    offload_state_dict=True, \n",
    ")\n",
    "processor = AutoProcessor.from_pretrained(model_id,use_fast=True)\n"
   ]
  },
  {
   "cell_type": "code",
   "execution_count": 6,
   "metadata": {},
   "outputs": [],
   "source": [
    "def load_image(image_path):\n",
    "    try:\n",
    "        img = Image.open(image_path)\n",
    "        return img\n",
    "    except Exception as e:\n",
    "        print(f\"Error loading image {image_path}: {e}\")\n",
    "        return None"
   ]
  },
  {
   "cell_type": "code",
   "execution_count": 7,
   "metadata": {},
   "outputs": [
    {
     "name": "stdout",
     "output_type": "stream",
     "text": [
      "Processing cases...--->\n",
      "['RHUH-0019', 'RHUH-0001', 'RHUH-0002', 'RHUH-0003', 'RHUH-0004', 'RHUH-0005', 'RHUH-0006', 'RHUH-0007', 'RHUH-0008', 'RHUH-0009', 'RHUH-0010', 'RHUH-0011', 'RHUH-0012', 'RHUH-0013', 'RHUH-0014', 'RHUH-0015', 'RHUH-0016', 'RHUH-0017', 'RHUH-0018', 'RHUH-0020', 'RHUH-0021', 'RHUH-0022', 'RHUH-0023', 'RHUH-0024', 'RHUH-0025', 'RHUH-0026', 'RHUH-0027', 'RHUH-0028', 'RHUH-0029', 'RHUH-0030', 'RHUH-0031', 'RHUH-0032', 'RHUH-0033', 'RHUH-0034', 'RHUH-0035', 'RHUH-0036', 'RHUH-0037', 'RHUH-0038', 'RHUH-0039', 'RHUH-0040']\n"
     ]
    }
   ],
   "source": [
    "print(\"Processing cases...--->\")\n",
    "print(cases_to_process)"
   ]
  },
  {
   "cell_type": "code",
   "execution_count": null,
   "metadata": {},
   "outputs": [
    {
     "name": "stdout",
     "output_type": "stream",
     "text": [
      "Messages prepared for case RHUH-0019\n"
     ]
    }
   ],
   "source": [
    "\n",
    "failed_cases = []\n",
    "\n",
    "for case in cases_to_process:\n",
    "    case_dir = os.path.join(cases_dir, case)\n",
    "    image_files = [\n",
    "        f for f in os.listdir(case_dir)\n",
    "        if f.lower().endswith('.png')\n",
    "    ]\n",
    "\n",
    "    clinical_information_path = os.path.join(case_dir, 'diagnostic_prompt.txt')\n",
    "    if not os.path.exists(clinical_information_path):\n",
    "        print(f\"Missing clinical information file for case: {case}\")\n",
    "        continue\n",
    "\n",
    "    clinical_information = open(clinical_information_path).read()\n",
    "\n",
    "    system_prompt = \"\"\"Consider that you are a professional radiologist with several years of experience and you are now treating a patient. Write a fully detailed diagnosis report for this case, avoiding any potential hallucination and paying close attention to all of the batch images attached to this message.\n",
    "\n",
    "Use the following structure for the report:\n",
    "\n",
    "## Radiologist's Report\n",
    "\n",
    "### Patient Information:\n",
    "- *Age:* 65\n",
    "- *Sex:* Male\n",
    "- *Days from earliest imaging to surgery:* 1\n",
    "- *Histopathological Subtype:* Glioblastoma\n",
    "- *WHO Grade:* 4\n",
    "- *IDH Status:* Mutant\n",
    "- *Preoperative KPS:* 80\n",
    "- *Preoperative Contrast-Enhancing Tumor Volume (cm³):* 103.21\n",
    "- *Preoperative T2/FLAIR Abnormality (cm³):* 36.29\n",
    "- *Extent of Resection (EOR %):* 100.0\n",
    "- *EOR Type:* Gross Total Resection (GTR)\n",
    "- *Adjuvant Therapy:* Radiotherapy (RT) + Temozolomide (TMZ)\n",
    "- *Progression-Free Survival (PFS) Days:* 649\n",
    "- *Overall Survival (OS) Days:* 736\n",
    "\n",
    "#### Tumor Characteristics:\n",
    "\n",
    "#### Segmentation Analysis:\n",
    "\n",
    "#### Surgical Considerations:\n",
    "\n",
    "### Clinical Summary:\n",
    "\n",
    "### Recommendations:\n",
    "\n",
    "### Prognostic Considerations:\n",
    "\n",
    "### Follow-Up Plan:\n",
    "\n",
    "### Additional Notes*(if any)*:\n",
    "\n",
    "Ensure all findings from all of the images and clinical data provided. Please mention at the end of the report how many images were reviewed.\"\"\"\n",
    "\n",
    "    user_prompt = f\"\"\"You will be given batches of images, which are different sequences of MRI scans. \n",
    "    The images are for patients who are likely to have a brain tumor. Each image will contain up to 10 slices for 5 different sequences and the segmentation masks for the tumor at the bottom row of the image. \n",
    "    Additional clinical data about the patient is: \n",
    "    {clinical_information}\"\"\"\n",
    "\n",
    "    # Process all images\n",
    "    for image_file in image_files:\n",
    "        image_path = os.path.join(case_dir, image_file)\n",
    "        img = load_image(image_path)\n",
    "   \n",
    "\n",
    "    # Prepare the messages for LLaMA Vision\n",
    "    messages = [\n",
    "         {\"role\": \"system_admin\", \"content\": [\n",
    "            {\"type\": \"text\", \"text\": system_prompt},\n",
    "        ]},\n",
    "        {\"role\": \"user\", \"content\": [\n",
    "            {\"type\": \"image\"},\n",
    "            {\"type\": \"text\", \"text\": user_prompt}\n",
    "        ]}\n",
    "    ]\n",
    "\n",
    "    print(f\"Messages prepared for case {case}\")\n",
    "\n",
    "    try:\n",
    "\n",
    "\n",
    "        # Apply the chat template\n",
    "        input_text = processor.apply_chat_template(messages, add_generation_prompt=True)\n",
    "\n",
    "    # Process the input and images\n",
    "        inputs = processor(\n",
    "        images=img,\n",
    "        text=input_text,\n",
    "        add_special_tokens=False,\n",
    "        return_tensors=\"pt\"\n",
    "        ).to(model.device)\n",
    "\n",
    "    # Generate the response\n",
    "        output = model.generate(**inputs, max_new_tokens=4096)\n",
    "        response_text = processor.decode(output[0], skip_special_tokens=True)\n",
    "        \n",
    "        print(f\"Response generated for case {case}, length: {len(response_text)} characters\")\n",
    "\n",
    "    # Save the response\n",
    "        response_path = os.path.join(case_dir, 'llama-90B.txt')\n",
    "        with open(response_path, 'w', encoding='utf-8') as f:\n",
    "            f.write(response_text)\n",
    "\n",
    "        print(f\"Response saved for case {case}.\")\n",
    "        # Memory management\n",
    "        del inputs, generated_ids, response_text\n",
    "        gc.collect()\n",
    "        torch.cuda.empty_cache()\n",
    "        print(f\"Memory cleared for case {case}\")\n",
    "\n",
    "    except torch.cuda.OutOfMemoryError:\n",
    "        print(f\"CUDA out of memory error for case {case}. Skipping this case.\")\n",
    "        failed_cases.append(case)\n",
    "        continue\n",
    "    except KeyboardInterrupt:\n",
    "        print(\"Interrupted by user. Proceeding to the next case.\")\n",
    "        continue\n",
    "    except Exception as e:\n",
    "        print(f\"Error processing case {case}: {e}\")\n",
    "        failed_cases.append(case)\n",
    "        continue\n",
    "\n",
    "# After processing all cases, save failed cases\n",
    "failed_cases_path = os.path.join(cases_dir, 'failed_cases_llama_90b.txt')\n",
    "with open(failed_cases_path, 'w', encoding='utf-8') as f:\n",
    "    for failed_case in failed_cases:\n",
    "        f.write(f\"{failed_case}\\n\")\n",
    "print(f\"Failed cases logged in {failed_cases_path}\")"
   ]
  }
 ],
 "metadata": {
  "kernelspec": {
   "display_name": "meta-vision",
   "language": "python",
   "name": "python3"
  },
  "language_info": {
   "codemirror_mode": {
    "name": "ipython",
    "version": 3
   },
   "file_extension": ".py",
   "mimetype": "text/x-python",
   "name": "python",
   "nbconvert_exporter": "python",
   "pygments_lexer": "ipython3",
   "version": "3.9.21"
  }
 },
 "nbformat": 4,
 "nbformat_minor": 2
}
